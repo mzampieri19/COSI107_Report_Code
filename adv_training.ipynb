{
 "cells": [
  {
   "cell_type": "markdown",
   "id": "ad1ca956",
   "metadata": {},
   "source": [
    "# COSI 107 Report Demonstration\n",
    "\n",
    "## Author: Michelangelo Zampieri \n",
    "\n",
    "This notebook contains the code for the demonstration section in my report for COSI 107 Intro to Computer Security. \n",
    "\n",
    "In this notebook I will try to implement the defense strategy of adverserial training."
   ]
  },
  {
   "cell_type": "markdown",
   "id": "c62b9b68",
   "metadata": {},
   "source": [
    "Import neccessary libraries"
   ]
  },
  {
   "cell_type": "code",
   "execution_count": 5,
   "id": "4f883e30",
   "metadata": {},
   "outputs": [],
   "source": [
    "import torch\n",
    "import torch.nn as nn\n",
    "import torch.optim as optim\n",
    "from torchvision import datasets, transforms\n",
    "import torchvision.transforms as transforms\n",
    "import matplotlib.pyplot as plt\n",
    "import numpy as np\n",
    "import os\n",
    "from torch.utils.data import DataLoader\n",
    "from sklearn.metrics import confusion_matrix, ConfusionMatrixDisplay\n",
    "import foolbox as fb \n",
    "from torchvision.datasets import MNIST\n",
    "import torch.nn.functional as F"
   ]
  },
  {
   "cell_type": "markdown",
   "id": "de0250d4",
   "metadata": {},
   "source": [
    "Redefine architecture"
   ]
  },
  {
   "cell_type": "code",
   "execution_count": 6,
   "id": "7d6bfe53",
   "metadata": {},
   "outputs": [],
   "source": [
    "class SimpleCNN(nn.Module):\n",
    "    def __init__(self):\n",
    "        super(SimpleCNN, self).__init__()\n",
    "        self.net = nn.Sequential(\n",
    "            nn.Conv2d(1, 32, 3, padding=1),  # (1, 28, 28) → (32, 28, 28)\n",
    "            nn.ReLU(),\n",
    "            nn.MaxPool2d(2, 2),             # → (32, 14, 14)\n",
    "            nn.Conv2d(32, 64, 3, padding=1),# → (64, 14, 14)\n",
    "            nn.ReLU(),\n",
    "            nn.MaxPool2d(2, 2),             # → (64, 7, 7)\n",
    "            nn.Flatten(),                   # → (64*7*7,)\n",
    "            nn.Linear(64 * 7 * 7, 128),\n",
    "            nn.ReLU(),\n",
    "            nn.Linear(128, 10)\n",
    "        )\n",
    "\n",
    "    def forward(self, x):\n",
    "        return self.net(x)"
   ]
  },
  {
   "cell_type": "markdown",
   "id": "c17eafce",
   "metadata": {},
   "source": [
    "Check available device"
   ]
  },
  {
   "cell_type": "code",
   "execution_count": 7,
   "id": "ff76c3c4",
   "metadata": {},
   "outputs": [],
   "source": [
    "device = torch.device(\"cuda\" if torch.cuda.is_available() else \"cpu\")\n",
    "model = SimpleCNN().to(device)"
   ]
  },
  {
   "cell_type": "markdown",
   "id": "51c3e80f",
   "metadata": {},
   "source": [
    "Load pre trained weights"
   ]
  },
  {
   "cell_type": "code",
   "execution_count": 9,
   "id": "5b283b65",
   "metadata": {},
   "outputs": [
    {
     "data": {
      "text/plain": [
       "SimpleCNN(\n",
       "  (net): Sequential(\n",
       "    (0): Conv2d(1, 32, kernel_size=(3, 3), stride=(1, 1), padding=(1, 1))\n",
       "    (1): ReLU()\n",
       "    (2): MaxPool2d(kernel_size=2, stride=2, padding=0, dilation=1, ceil_mode=False)\n",
       "    (3): Conv2d(32, 64, kernel_size=(3, 3), stride=(1, 1), padding=(1, 1))\n",
       "    (4): ReLU()\n",
       "    (5): MaxPool2d(kernel_size=2, stride=2, padding=0, dilation=1, ceil_mode=False)\n",
       "    (6): Flatten(start_dim=1, end_dim=-1)\n",
       "    (7): Linear(in_features=3136, out_features=128, bias=True)\n",
       "    (8): ReLU()\n",
       "    (9): Linear(in_features=128, out_features=10, bias=True)\n",
       "  )\n",
       ")"
      ]
     },
     "execution_count": 9,
     "metadata": {},
     "output_type": "execute_result"
    }
   ],
   "source": [
    "model.load_state_dict(torch.load(\"models/mnist_cnn.pth\", map_location=device))\n",
    "model.train()"
   ]
  },
  {
   "cell_type": "markdown",
   "id": "99cc2703",
   "metadata": {},
   "source": [
    "Load the data into training and testing sets"
   ]
  },
  {
   "cell_type": "code",
   "execution_count": null,
   "id": "c86ca335",
   "metadata": {},
   "outputs": [],
   "source": [
    "transform = transforms.ToTensor()\n",
    "train_dataset = datasets.MNIST(root=\"./data\", train=True, download=True, transform=transform)\n",
    "train_loader = DataLoader(train_dataset, batch_size=64, shuffle=True)\n",
    "\n",
    "test_dataset = datasets.MNIST(root=\"./data\", train=False, download=True, transform=transform)\n",
    "test_loader = DataLoader(test_dataset, batch_size=1000, shuffle=False)"
   ]
  },
  {
   "cell_type": "markdown",
   "id": "d7e06a74",
   "metadata": {},
   "source": [
    "Ensure weights were loaded correctly by measuring model performance"
   ]
  },
  {
   "cell_type": "code",
   "execution_count": 11,
   "id": "db969788",
   "metadata": {},
   "outputs": [
    {
     "name": "stdout",
     "output_type": "stream",
     "text": [
      "Accuracy: 98.79%\n"
     ]
    }
   ],
   "source": [
    "correct = 0\n",
    "total = 0\n",
    "with torch.no_grad():\n",
    "    for data, labels in test_loader:\n",
    "        data, labels = data.to(device), labels.to(device)\n",
    "        outputs = model(data)\n",
    "        _, predicted = torch.max(outputs.data, 1)\n",
    "        total += labels.size(0)\n",
    "        correct += (predicted == labels).sum().item()\n",
    "\n",
    "print(f'Accuracy: {100 * correct / total:.2f}%')"
   ]
  },
  {
   "cell_type": "markdown",
   "id": "7fbe00e4",
   "metadata": {},
   "source": [
    "Define optimizer function and criteria"
   ]
  },
  {
   "cell_type": "code",
   "execution_count": null,
   "id": "e49aa80c",
   "metadata": {},
   "outputs": [],
   "source": [
    "optimizer = optim.Adam(model.parameters(), lr=0.001)\n",
    "criterion = nn.CrossEntropyLoss()"
   ]
  },
  {
   "cell_type": "markdown",
   "id": "60958fd3",
   "metadata": {},
   "source": [
    "Define the attack"
   ]
  },
  {
   "cell_type": "code",
   "execution_count": null,
   "id": "bc428473",
   "metadata": {},
   "outputs": [],
   "source": [
    "def fgsm_attack(image, epsilon, data_grad):\n",
    "    sign_data_grad = data_grad.sign()\n",
    "    perturbed_image = image + epsilon * sign_data_grad\n",
    "    return torch.clamp(perturbed_image, 0, 1)"
   ]
  },
  {
   "cell_type": "markdown",
   "id": "1f4b83ab",
   "metadata": {},
   "source": [
    "Modified training loop to use adversarial pertrubated images and clean images"
   ]
  },
  {
   "cell_type": "code",
   "execution_count": 24,
   "id": "1adc11b2",
   "metadata": {},
   "outputs": [],
   "source": [
    "def adversarial_train(model, device, train_loader, optimizer, criterion, epsilon, epochs=5):\n",
    "    model.train()\n",
    "    \n",
    "    for epoch in range(epochs):\n",
    "        total_loss = 0\n",
    "        for data, target in train_loader:\n",
    "            data, target = data.to(device), target.to(device)\n",
    "\n",
    "            # === Clean pass ===\n",
    "            output = model(data)\n",
    "            loss = criterion(output, target)\n",
    "\n",
    "            # === Adversarial example ===\n",
    "            data.requires_grad = True\n",
    "            output = model(data)\n",
    "            loss_adv = criterion(output, target)\n",
    "            model.zero_grad()\n",
    "            loss_adv.backward(retain_graph=True)\n",
    "            data_grad = data.grad.data\n",
    "\n",
    "            # Generate adversarial example using FGSM\n",
    "            adv_data = fgsm_attack(data, epsilon, data_grad)\n",
    "            adv_data = adv_data.detach()  # detach to prevent graph reuse\n",
    "\n",
    "            # === Forward pass with adversarial example ===\n",
    "            output_adv = model(adv_data)\n",
    "            adv_loss = criterion(output_adv, target)\n",
    "\n",
    "            # Combine losses\n",
    "            total = (loss + adv_loss) / 2\n",
    "\n",
    "            # Backprop and optimize\n",
    "            optimizer.zero_grad()\n",
    "            total.backward()\n",
    "            optimizer.step()\n",
    "\n",
    "            total_loss += total.item()\n",
    "\n",
    "        print(f\"Epoch [{epoch + 1}/{epochs}], Loss: {total_loss:.4f}\")\n"
   ]
  },
  {
   "cell_type": "markdown",
   "id": "a8376963",
   "metadata": {},
   "source": [
    "Training with epsilon = .15 the best value found"
   ]
  },
  {
   "cell_type": "code",
   "execution_count": 25,
   "id": "9a0941ac",
   "metadata": {},
   "outputs": [
    {
     "name": "stdout",
     "output_type": "stream",
     "text": [
      "Epoch [1/5], Loss: 81.4455\n",
      "Epoch [2/5], Loss: 64.6306\n",
      "Epoch [3/5], Loss: 55.7155\n",
      "Epoch [4/5], Loss: 49.0567\n",
      "Epoch [5/5], Loss: 42.0377\n"
     ]
    }
   ],
   "source": [
    "epsilon = 0.15 \n",
    "adversarial_train(model, device, train_loader, optimizer, criterion, epsilon)"
   ]
  },
  {
   "cell_type": "markdown",
   "id": "f0a488e5",
   "metadata": {},
   "source": [
    "Save the new model"
   ]
  },
  {
   "cell_type": "code",
   "execution_count": 26,
   "id": "ac9e72c3",
   "metadata": {},
   "outputs": [],
   "source": [
    "torch.save(model.state_dict(), \"adv_training.pth\")"
   ]
  },
  {
   "cell_type": "markdown",
   "id": "a2a70520",
   "metadata": {},
   "source": [
    "Functions to test on clean and pertrubated images"
   ]
  },
  {
   "cell_type": "code",
   "execution_count": 27,
   "id": "67ecfc15",
   "metadata": {},
   "outputs": [],
   "source": [
    "def test_clean(model, device, test_loader):\n",
    "    model.eval()\n",
    "    correct = 0\n",
    "    total = 0\n",
    "    with torch.no_grad():\n",
    "        for data, target in test_loader:\n",
    "            data, target = data.to(device), target.to(device)\n",
    "            output = model(data)\n",
    "            preds = output.argmax(dim=1)\n",
    "            correct += (preds == target).sum().item()\n",
    "            total += target.size(0)\n",
    "    print(f'Accuracy on clean test data: {100. * correct / total:.2f}%')\n",
    "\n",
    "def test_adversarial(model, device, test_loader, epsilon):\n",
    "    model.eval()\n",
    "    correct = 0\n",
    "    total = 0\n",
    "    for data, target in test_loader:\n",
    "        data, target = data.to(device), target.to(device)\n",
    "        data.requires_grad = True\n",
    "        output = model(data)\n",
    "        loss = nn.CrossEntropyLoss()(output, target)\n",
    "        model.zero_grad()\n",
    "        loss.backward()\n",
    "        data_grad = data.grad.data\n",
    "        adv_data = fgsm_attack(data, epsilon, data_grad).detach()\n",
    "\n",
    "        output_adv = model(adv_data)\n",
    "        preds = output_adv.argmax(dim=1)\n",
    "        correct += (preds == target).sum().item()\n",
    "        total += target.size(0)\n",
    "    print(f'Accuracy on adversarial test data (ε={epsilon}): {100. * correct / total:.2f}%')"
   ]
  },
  {
   "cell_type": "code",
   "execution_count": 28,
   "id": "1a2f93fe",
   "metadata": {},
   "outputs": [
    {
     "name": "stdout",
     "output_type": "stream",
     "text": [
      "Accuracy on clean test data: 99.19%\n",
      "Accuracy on adversarial test data (ε=0.15): 96.16%\n"
     ]
    }
   ],
   "source": [
    "test_clean(model, device, test_loader)\n",
    "test_adversarial(model, device, test_loader, epsilon=0.15)"
   ]
  },
  {
   "cell_type": "code",
   "execution_count": 29,
   "id": "3f341699",
   "metadata": {},
   "outputs": [],
   "source": [
    "def evaluate_accuracy(model, device, data_loader, adversarial=False, epsilon=0.15):\n",
    "    model.eval()\n",
    "    correct = 0\n",
    "    total = 0\n",
    "    \n",
    "    for data, target in data_loader:\n",
    "        data, target = data.to(device), target.to(device)\n",
    "        if adversarial:\n",
    "            data.requires_grad = True\n",
    "            output = model(data)\n",
    "            loss = nn.CrossEntropyLoss()(output, target)\n",
    "            model.zero_grad()\n",
    "            loss.backward()\n",
    "            data_grad = data.grad.data\n",
    "            data = fgsm_attack(data, epsilon, data_grad)\n",
    "        \n",
    "        output = model(data)\n",
    "        pred = output.argmax(dim=1)\n",
    "        correct += (pred == target).sum().item()\n",
    "        total += target.size(0)\n",
    "    \n",
    "    return 100.0 * correct / total\n",
    "\n",
    "orginal_model = SimpleCNN().to(device)"
   ]
  },
  {
   "cell_type": "code",
   "execution_count": 32,
   "id": "1cdf29d8",
   "metadata": {},
   "outputs": [
    {
     "data": {
      "text/plain": [
       "SimpleCNN(\n",
       "  (net): Sequential(\n",
       "    (0): Conv2d(1, 32, kernel_size=(3, 3), stride=(1, 1), padding=(1, 1))\n",
       "    (1): ReLU()\n",
       "    (2): MaxPool2d(kernel_size=2, stride=2, padding=0, dilation=1, ceil_mode=False)\n",
       "    (3): Conv2d(32, 64, kernel_size=(3, 3), stride=(1, 1), padding=(1, 1))\n",
       "    (4): ReLU()\n",
       "    (5): MaxPool2d(kernel_size=2, stride=2, padding=0, dilation=1, ceil_mode=False)\n",
       "    (6): Flatten(start_dim=1, end_dim=-1)\n",
       "    (7): Linear(in_features=3136, out_features=128, bias=True)\n",
       "    (8): ReLU()\n",
       "    (9): Linear(in_features=128, out_features=10, bias=True)\n",
       "  )\n",
       ")"
      ]
     },
     "execution_count": 32,
     "metadata": {},
     "output_type": "execute_result"
    }
   ],
   "source": [
    "original_model = SimpleCNN().to(device)\n",
    "original_model.load_state_dict(torch.load(\"models/mnist_cnn.pth\", map_location=device))\n",
    "original_model.eval()\n",
    "\n",
    "adv_trained_model = SimpleCNN().to(device)\n",
    "adv_trained_model.load_state_dict(torch.load(\"models/adv_training.pth\", map_location=device))\n",
    "adv_trained_model.eval()"
   ]
  },
  {
   "cell_type": "code",
   "execution_count": 33,
   "id": "61c447f4",
   "metadata": {},
   "outputs": [],
   "source": [
    "# Evaluate original model\n",
    "clean_acc_orig = evaluate_accuracy(original_model, device, test_loader)\n",
    "adv_acc_orig = evaluate_accuracy(original_model, device, test_loader, adversarial=True, epsilon=0.15)\n",
    "\n",
    "# Evaluate adversarially trained model\n",
    "clean_acc_adv = evaluate_accuracy(adv_trained_model, device, test_loader)\n",
    "adv_acc_adv = evaluate_accuracy(adv_trained_model, device, test_loader, adversarial=True, epsilon=0.15)\n"
   ]
  },
  {
   "cell_type": "markdown",
   "id": "4d0f0f1d",
   "metadata": {},
   "source": [
    "Plot graph of accuracies"
   ]
  },
  {
   "cell_type": "code",
   "execution_count": 37,
   "id": "76d065f1",
   "metadata": {},
   "outputs": [
    {
     "data": {
      "image/png": "[encoded data removed]",
      "text/plain": [
       "<Figure size 1000x600 with 1 Axes>"
      ]
     },
     "metadata": {},
     "output_type": "display_data"
    }
   ],
   "source": [
    "import matplotlib.pyplot as plt\n",
    "import numpy as np\n",
    "\n",
    "models = ['Original Model', 'Adversarially Trained Model']\n",
    "clean_acc = [clean_acc_orig, clean_acc_adv]\n",
    "adv_acc = [adv_acc_orig, adv_acc_adv]\n",
    "\n",
    "x = np.arange(len(models))\n",
    "bar_width = 0.35\n",
    "\n",
    "plt.figure(figsize=(10, 6))\n",
    "bar1 = plt.bar(x - bar_width/2, clean_acc, width=bar_width, label='Clean Accuracy', color='#4CAF50')\n",
    "bar2 = plt.bar(x + bar_width/2, adv_acc, width=bar_width, label='Adversarial Accuracy (ε=0.15)', color='#F44336')\n",
    "\n",
    "# Formatting\n",
    "plt.xticks(x, models, fontsize=12)\n",
    "plt.ylabel('Accuracy (%)', fontsize=12)\n",
    "plt.title('Model Accuracy Comparison', fontsize=14, weight='bold')\n",
    "plt.ylim(0, max(clean_acc + adv_acc) + 10)  # Add headroom\n",
    "\n",
    "# Add grid and legend\n",
    "plt.grid(axis='y', linestyle='--', alpha=0.6)\n",
    "plt.legend(fontsize=8, loc='best')\n",
    "\n",
    "# Add bar labels\n",
    "for bar in bar1 + bar2:\n",
    "    height = bar.get_height()\n",
    "    plt.text(bar.get_x() + bar.get_width()/2, height + 1.5, f'{height:.2f}%', \n",
    "             ha='center', va='bottom', fontsize=11)\n",
    "\n",
    "plt.tight_layout()\n",
    "plt.show()\n"
   ]
  }
 ],
 "metadata": {
  "kernelspec": {
   "display_name": "myenv",
   "language": "python",
   "name": "python3"
  },
  "language_info": {
   "codemirror_mode": {
    "name": "ipython",
    "version": 3
   },
   "file_extension": ".py",
   "mimetype": "text/x-python",
   "name": "python",
   "nbconvert_exporter": "python",
   "pygments_lexer": "ipython3",
   "version": "3.13.3"
  }
 },
 "nbformat": 4,
 "nbformat_minor": 5
}
