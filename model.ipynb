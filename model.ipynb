{
 "cells": [
  {
   "cell_type": "markdown",
   "id": "eb864f71",
   "metadata": {},
   "source": [
    "# COSI 107 Report Demonstration\n",
    "\n",
    "## Author: Michelangelo Zampieri \n",
    "\n",
    "This notebook contains the code for the demonstration section in my report for COSI 107 Intro to Computer Security. \n",
    "\n",
    "Here I create a small CNN for the MNIST dataset, to then create a adversarial attack to demonstrate the effect of these attacks on machine learning models. "
   ]
  },
  {
   "cell_type": "markdown",
   "id": "fdbd549e",
   "metadata": {},
   "source": [
    "Import needed libraries"
   ]
  },
  {
   "cell_type": "code",
   "execution_count": 2,
   "id": "f7c51a95",
   "metadata": {},
   "outputs": [],
   "source": [
    "import torch\n",
    "import torch.nn as nn\n",
    "import torch.optim as optim\n",
    "import torchvision\n",
    "import torchvision.transforms as transforms\n",
    "import matplotlib.pyplot as plt\n",
    "import numpy as np\n",
    "import os\n",
    "from torch.utils.data import DataLoader\n",
    "from sklearn.metrics import confusion_matrix, ConfusionMatrixDisplay\n",
    "import foolbox as fb "
   ]
  },
  {
   "cell_type": "markdown",
   "id": "f0baa150",
   "metadata": {},
   "source": [
    "Check available device"
   ]
  },
  {
   "cell_type": "code",
   "execution_count": null,
   "id": "ceb6e765",
   "metadata": {},
   "outputs": [
    {
     "name": "stdout",
     "output_type": "stream",
     "text": [
      "Using device: cpu\n"
     ]
    }
   ],
   "source": [
    "device = torch.device(\"cuda\" if torch.cuda.is_available() else \"cpu\")\n",
    "print(f\"Using device: {device}\")"
   ]
  },
  {
   "cell_type": "markdown",
   "id": "91a7b267",
   "metadata": {},
   "source": [
    "Download the data and prepare the datasets"
   ]
  },
  {
   "cell_type": "code",
   "execution_count": 4,
   "id": "59be1dec",
   "metadata": {},
   "outputs": [],
   "source": [
    "transform = transforms.Compose([\n",
    "    transforms.ToTensor(),\n",
    "    transforms.Normalize((0.1307,), (0.3081,))  # mean and std for MNIST\n",
    "])\n",
    "\n",
    "train_dataset = torchvision.datasets.MNIST(root='./data', train=True, download=True, transform=transform)\n",
    "test_dataset = torchvision.datasets.MNIST(root='./data', train=False, download=True, transform=transform)\n",
    "\n",
    "train_loader = DataLoader(train_dataset, batch_size=64, shuffle=True)\n",
    "test_loader = DataLoader(test_dataset, batch_size=1000, shuffle=False)"
   ]
  },
  {
   "cell_type": "markdown",
   "id": "b8257be2",
   "metadata": {},
   "source": [
    "This is where the CNN is defined. It has the following layers:\n",
    "1. Convolutional layer 1\n",
    "2. ReLU activation\n",
    "3. Max Pooling layer \n",
    "4. Convolutional layer 2\n",
    "5. ReLU activation\n",
    "6. Max Pooling layer \n",
    "7. Flatten layer "
   ]
  },
  {
   "cell_type": "code",
   "execution_count": 5,
   "id": "a1489fcc",
   "metadata": {},
   "outputs": [],
   "source": [
    "class SimpleCNN(nn.Module):\n",
    "    def __init__(self):\n",
    "        super(SimpleCNN, self).__init__()\n",
    "        self.net = nn.Sequential(\n",
    "            nn.Conv2d(1, 32, 3, padding=1),  # (1, 28, 28) → (32, 28, 28)\n",
    "            nn.ReLU(),\n",
    "            nn.MaxPool2d(2, 2),             # → (32, 14, 14)\n",
    "            nn.Conv2d(32, 64, 3, padding=1),# → (64, 14, 14)\n",
    "            nn.ReLU(),\n",
    "            nn.MaxPool2d(2, 2),             # → (64, 7, 7)\n",
    "            nn.Flatten(),                   # → (64*7*7,)\n",
    "            nn.Linear(64 * 7 * 7, 128),\n",
    "            nn.ReLU(),\n",
    "            nn.Linear(128, 10)\n",
    "        )\n",
    "\n",
    "    def forward(self, x):\n",
    "        return self.net(x)"
   ]
  },
  {
   "cell_type": "code",
   "execution_count": 6,
   "id": "b3fc7ebf",
   "metadata": {},
   "outputs": [],
   "source": [
    "model = SimpleCNN().to(device)"
   ]
  },
  {
   "cell_type": "markdown",
   "id": "5d9ee832",
   "metadata": {},
   "source": [
    "Define the optimizer and loss function"
   ]
  },
  {
   "cell_type": "code",
   "execution_count": 7,
   "id": "b6a39b9d",
   "metadata": {},
   "outputs": [],
   "source": [
    "criterion = nn.CrossEntropyLoss()\n",
    "optimizer = optim.Adam(model.parameters(), lr=0.001)"
   ]
  },
  {
   "cell_type": "markdown",
   "id": "fecef918",
   "metadata": {},
   "source": [
    "Train the model \n",
    "\n",
    "Training could be made better with more epochs and better hardware but this is more than enough for now. "
   ]
  },
  {
   "cell_type": "code",
   "execution_count": 8,
   "id": "703b31ca",
   "metadata": {},
   "outputs": [
    {
     "name": "stdout",
     "output_type": "stream",
     "text": [
      "Epoch [1/5], Loss: 128.3458\n",
      "Epoch [2/5], Loss: 41.8396\n",
      "Epoch [2/5], Loss: 41.8396\n",
      "Epoch [3/5], Loss: 28.1946\n",
      "Epoch [3/5], Loss: 28.1946\n",
      "Epoch [4/5], Loss: 20.1370\n",
      "Epoch [4/5], Loss: 20.1370\n",
      "Epoch [5/5], Loss: 16.1634\n",
      "Epoch [5/5], Loss: 16.1634\n"
     ]
    }
   ],
   "source": [
    "epochs = 5\n",
    "for epoch in range(epochs):\n",
    "    model.train()\n",
    "    total_loss = 0\n",
    "    for images, labels in train_loader:\n",
    "        images, labels = images.to(device), labels.to(device)\n",
    "\n",
    "        optimizer.zero_grad()\n",
    "        outputs = model(images)\n",
    "        loss = criterion(outputs, labels)\n",
    "        loss.backward()\n",
    "        optimizer.step()\n",
    "\n",
    "        total_loss += loss.item()\n",
    "\n",
    "    print(f\"Epoch [{epoch+1}/{epochs}], Loss: {total_loss:.4f}\")\n"
   ]
  },
  {
   "cell_type": "markdown",
   "id": "27b7788a",
   "metadata": {},
   "source": [
    "Evaluate the model on test images store the predictions for later"
   ]
  },
  {
   "cell_type": "code",
   "execution_count": 9,
   "id": "e90d8f3c",
   "metadata": {},
   "outputs": [
    {
     "name": "stdout",
     "output_type": "stream",
     "text": [
      "Test Accuracy: 99.02%\n"
     ]
    }
   ],
   "source": [
    "all_labels = []\n",
    "all_preds = []\n",
    "\n",
    "model.eval()\n",
    "correct = 0\n",
    "total = 0\n",
    "with torch.no_grad():\n",
    "    for images, labels in test_loader:\n",
    "        images, labels = images.to(device), labels.to(device)\n",
    "        outputs = model(images)\n",
    "        _, predicted = torch.max(outputs.data, 1)\n",
    "        total += labels.size(0)\n",
    "        correct += (predicted == labels).sum().item()\n",
    "\n",
    "        all_preds.extend(predicted.cpu().numpy())\n",
    "        all_labels.extend(labels.numpy())\n",
    "\n",
    "cm = confusion_matrix(all_labels, all_preds)\n",
    "\n",
    "print(f\"Test Accuracy: {100 * correct / total:.2f}%\")"
   ]
  },
  {
   "cell_type": "markdown",
   "id": "9ff8b2af",
   "metadata": {},
   "source": [
    "Create a confusion matrix"
   ]
  },
  {
   "cell_type": "code",
   "execution_count": 10,
   "id": "0d3110bf",
   "metadata": {},
   "outputs": [
    {
     "data": {
      "image/png": "[encoded data removed]",
      "text/plain": [
       "<Figure size 640x480 with 2 Axes>"
      ]
     },
     "metadata": {},
     "output_type": "display_data"
    }
   ],
   "source": [
    "disp = ConfusionMatrixDisplay(confusion_matrix=cm, display_labels=[i for i in range(10)])\n",
    "disp.plot(cmap=plt.cm.Blues)\n",
    "plt.title(\"Confusion Matrix for MNIST CNN\")\n",
    "plt.show()"
   ]
  },
  {
   "cell_type": "markdown",
   "id": "d2f49387",
   "metadata": {},
   "source": [
    "This matrix shows that the model overall is able to guess the classes very well. It seems to make some mistakes with predicting the number `2` instead of the real label `7`. This mistake is resonable as those number are similarly written but this mistake is really small compared to how many are correct. "
   ]
  },
  {
   "cell_type": "markdown",
   "id": "8cd0de61",
   "metadata": {},
   "source": [
    "Save the model"
   ]
  },
  {
   "cell_type": "code",
   "execution_count": null,
   "id": "24aa6948",
   "metadata": {},
   "outputs": [],
   "source": [
    "os.makedirs('models', exist_ok=True)\n",
    "torch.save(model.state_dict(), \"mnist_cnn.pth\")"
   ]
  },
  {
   "cell_type": "markdown",
   "id": "5b61800a",
   "metadata": {},
   "source": [
    "Functions to predict and plot images"
   ]
  },
  {
   "cell_type": "code",
   "execution_count": null,
   "id": "f3e00f88",
   "metadata": {},
   "outputs": [],
   "source": [
    "def predict(model, data_loader):\n",
    "    model.eval()\n",
    "    predictions = []\n",
    "    with torch.no_grad():\n",
    "        for images, _ in data_loader:\n",
    "            images = images.to(device)\n",
    "            outputs = model(images)\n",
    "            _, predicted = torch.max(outputs.data, 1)\n",
    "            predictions.extend(predicted.cpu().numpy())\n",
    "    return np.array(predictions)\n",
    "\n",
    "def plot_images(images, labels, predictions=None):\n",
    "    plt.figure(figsize=(10, 10))\n",
    "    for i in range(9):\n",
    "        ax = plt.subplot(3, 3, i + 1)\n",
    "        plt.imshow(images[i].squeeze(), cmap='gray')\n",
    "        if predictions is not None:\n",
    "            title = f\"True: {labels[i]}, Pred: {predictions[i]}\"\n",
    "        else:\n",
    "            title = f\"Label: {labels[i]}\"\n",
    "        ax.set_title(title)\n",
    "        ax.axis('off')\n",
    "    plt.show()\n"
   ]
  },
  {
   "cell_type": "markdown",
   "id": "68aec50a",
   "metadata": {},
   "source": [
    "Get test image labels, make predictions, and plot them. "
   ]
  },
  {
   "cell_type": "code",
   "execution_count": null,
   "id": "723b509a",
   "metadata": {},
   "outputs": [
    {
     "data": {
      "image/png": "[encoded data removed]",
      "text/plain": [
       "<Figure size 1000x1000 with 9 Axes>"
      ]
     },
     "metadata": {},
     "output_type": "display_data"
    }
   ],
   "source": [
    "test_images, test_labels = next(iter(test_loader))\n",
    "test_images = test_images.numpy()\n",
    "test_labels = test_labels.numpy()\n",
    "\n",
    "predictions = predict(model, test_loader)\n",
    "\n",
    "plot_images(test_images, test_labels, predictions)"
   ]
  },
  {
   "cell_type": "markdown",
   "id": "8978fd93",
   "metadata": {},
   "source": [
    "As seen here all images seem to be predicted correctly. "
   ]
  }
 ],
 "metadata": {
  "kernelspec": {
   "display_name": "Python (myenv)",
   "language": "python",
   "name": "myenv"
  },
  "language_info": {
   "codemirror_mode": {
    "name": "ipython",
    "version": 3
   },
   "file_extension": ".py",
   "mimetype": "text/x-python",
   "name": "python",
   "nbconvert_exporter": "python",
   "pygments_lexer": "ipython3",
   "version": "3.13.3"
  }
 },
 "nbformat": 4,
 "nbformat_minor": 5
}
